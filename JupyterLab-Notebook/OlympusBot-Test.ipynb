{
 "cells": [
  {
   "cell_type": "code",
   "execution_count": 1,
   "metadata": {},
   "outputs": [
    {
     "name": "stdout",
     "output_type": "stream",
     "text": [
      "Ort: Zürich\n",
      "Wetter: Leichter Regen, 20°\n"
     ]
    }
   ],
   "source": [
    "# weather test-function\n",
    "import requests\n",
    "from lxml import html\n",
    "\n",
    "url = 'https://weather.com/de-CH/weather/today/l/abe831aec41f7d9432bf812060276a8299e180c4e5a33f822acdbeb9715acc7c'\n",
    "page = requests.get(url)\n",
    "tree = html.fromstring(page.content)\n",
    "\n",
    "weather = tree.xpath('//div[@data-testid = \"wxPhrase\"]/text()')[0]\n",
    "temperature = tree.xpath('//span[@data-testid = \"TemperatureValue\"]/text()')[0]\n",
    "\n",
    "print(\"Ort: \" + \"Zürich\" + \"\\n\" + \"Wetter: \" + weather + \", \" + temperature)"
   ]
  },
  {
   "cell_type": "code",
   "execution_count": 2,
   "metadata": {},
   "outputs": [
    {
     "name": "stdout",
     "output_type": "stream",
     "text": [
      "Attacker: FLORES\n"
     ]
    }
   ],
   "source": [
    "# get operator\n",
    "import requests\n",
    "from bs4 import BeautifulSoup\n",
    "from lxml import html\n",
    "\n",
    "def operators():\n",
    "\n",
    "    url = 'https://r6.tracker.network/profile/pc/Samurai.Olymp/operators?seasonal=1'\n",
    "    page = requests.get(url)\n",
    "\n",
    "    tree = html.fromstring(page.content)\n",
    "    operator = tree.xpath('//span[not(@class)]/text()')[5]\n",
    "\n",
    "    output = (\"Attacker: \" + operator)\n",
    "    return output\n",
    "\n",
    "print(operators())"
   ]
  },
  {
   "cell_type": "code",
   "execution_count": 3,
   "metadata": {},
   "outputs": [
    {
     "name": "stdout",
     "output_type": "stream",
     "text": [
      "ALIBI\n"
     ]
    }
   ],
   "source": [
    "# get following element\n",
    "import requests\n",
    "from bs4 import BeautifulSoup\n",
    "from lxml import html\n",
    "\n",
    "url = 'https://r6.tracker.network/profile/pc/Samurai.Olymp/operators?seasonal=1'\n",
    "page = requests.get(url)\n",
    "\n",
    "tree2 = html.fromstring(page.content)\n",
    "r = requests.get(url).text\n",
    "soup = BeautifulSoup(r, \"lxml\")\n",
    "\n",
    "defender = tree2.xpath(\"//th[.='Operator Stat']/following::span[1]/text()\")[1]\n",
    "print(defender)"
   ]
  },
  {
   "cell_type": "code",
   "execution_count": 4,
   "metadata": {},
   "outputs": [
    {
     "name": "stdout",
     "output_type": "stream",
     "text": [
      "welt\n"
     ]
    }
   ],
   "source": [
    "# split message\n",
    "text = \"!hallo welt\"\n",
    "usernameInput2 = (text.split()[1])\n",
    "print(usernameInput2)"
   ]
  },
  {
   "cell_type": "code",
   "execution_count": 5,
   "metadata": {},
   "outputs": [
    {
     "name": "stdout",
     "output_type": "stream",
     "text": [
      "Level: 220\n",
      "Rank: PLATINUM III\n",
      "MMR: 3,287\n",
      "Seasonal highest MMR: 3,580\n",
      "Overall highest MMR: 3,636\n",
      "Overall K/D: 0.98\n",
      "Seasonal Ranked K/D: 0.99\n"
     ]
    }
   ],
   "source": [
    "# !stats test-function\n",
    "import requests\n",
    "from lxml import html\n",
    "\n",
    "url = 'https://r6.tracker.network/profile/pc/' + 'Samurai.Olymp'\n",
    "page = requests.get(url)\n",
    "        \n",
    "tree = html.fromstring(page.content)\n",
    "   \n",
    "#get info from tree\n",
    "level = tree.xpath('//div[@class = \"trn-defstat__value-stylized\"]/text()')[1]\n",
    "rank = tree.xpath('//div[@class = \"trn-defstat__value\"]/text()')[66]\n",
    "mmr = tree.xpath('//div[@class = \"trn-defstat__value\"]/text()')[68]\n",
    "seasonalHighestMmr = tree.xpath('//div[@class = \"trn-defstat__value\"]/text()')[69]\n",
    "overallHighestMmr = tree.xpath(\"//div[.='Personal Record']/following::div[1]/text()\")[0]\n",
    "overallkd = tree.xpath('//div[@class = \"trn-defstat__value\"]/text()')[7]\n",
    "seasonalkd = tree.xpath('//div[@class = \"trn-defstat__value\"]/text()')[54]\n",
    "    \n",
    "\n",
    "output = (\"Level: \" + level.strip() + \"\\n\" + \"Rank: \" + rank.strip() + \"\\n\"  + \"MMR: \" + mmr.strip() + \"\\n\" \n",
    "          + \"Seasonal highest MMR: \" + seasonalHighestMmr.strip() + \"\\n\"\n",
    "          + \"Overall highest MMR: \" + overallHighestMmr.split()[0] + \"\\n\"+ \"Overall K/D: \" + overallkd.strip() + \"\\n\" \n",
    "          + \"Seasonal Ranked K/D: \" + seasonalkd.strip())\n",
    "print(output) "
   ]
  },
  {
   "cell_type": "code",
   "execution_count": 6,
   "metadata": {},
   "outputs": [
    {
     "name": "stdout",
     "output_type": "stream",
     "text": [
      "Seasonal Attacker: FLORES    K/D: 1.13\n",
      "Seasonal Defender: ALIBI    K/D: 1.73\n"
     ]
    }
   ],
   "source": [
    "# !operator test-function + tabulate test\n",
    "import requests\n",
    "from bs4 import BeautifulSoup\n",
    "from lxml import html\n",
    "\n",
    "url = 'https://r6.tracker.network/profile/pc/Samurai.Olymp/operators?seasonal=1'\n",
    "page = requests.get(url)\n",
    "\n",
    "tree2 = html.fromstring(page.content)\n",
    "\n",
    "attacker = tree2.xpath('//span[not(@class)]/text()')[5]\n",
    "attackerkd = tree2.xpath('//td[@class = \"trn-text--right\"]/text()')[3]\n",
    "defender = tree2.xpath(\"//th[.='Operator Stat']/following::span[1]/text()\")[1]\n",
    "defenderkd = tree2.xpath(\"//th[.='Operator Stat']/following::td[5]/text()\")[1]\n",
    "\n",
    "print(\"Seasonal Attacker: \" + attacker + \" \"*4 + \"K/D: \" + attackerkd + \"\\n\" \n",
    "      + \"Seasonal Defender: \" + defender + \" \"*4 + \"K/D: \" + defenderkd)"
   ]
  }
 ],
 "metadata": {
  "kernelspec": {
   "display_name": "Python 3",
   "language": "python",
   "name": "python3"
  },
  "language_info": {
   "codemirror_mode": {
    "name": "ipython",
    "version": 3
   },
   "file_extension": ".py",
   "mimetype": "text/x-python",
   "name": "python",
   "nbconvert_exporter": "python",
   "pygments_lexer": "ipython3",
   "version": "3.8.8"
  }
 },
 "nbformat": 4,
 "nbformat_minor": 4
}
